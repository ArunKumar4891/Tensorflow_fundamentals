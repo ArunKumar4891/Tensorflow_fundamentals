{
 "cells": [
  {
   "cell_type": "markdown",
   "id": "984ede06",
   "metadata": {},
   "source": [
    "# Transfer Learning with TensorFlow "
   ]
  },
  {
   "cell_type": "code",
   "execution_count": null,
   "id": "2a6ff20b",
   "metadata": {},
   "outputs": [],
   "source": []
  },
  {
   "cell_type": "markdown",
   "id": "a104b634",
   "metadata": {},
   "source": [
    "# Part 1 Feature Extraction"
   ]
  },
  {
   "cell_type": "markdown",
   "id": "97581b0a",
   "metadata": {},
   "source": [
    "Transfer Learning is leveraging a working models existing arch and learned patterns for our own problems\n",
    "\n",
    "\n",
    "\n",
    "There are 2 main benefits:\n",
    "1. Can leverage an existing NN arch proven to work on problems similar to our own.\n",
    "2. Can leverage a working NN arch which has already learned patterns on similar data to our own, then we can adapt those patterns to our own data\n"
   ]
  },
  {
   "cell_type": "markdown",
   "id": "bb2eb8d3",
   "metadata": {},
   "source": [
    "### Downloading an becoming one with the data"
   ]
  },
  {
   "cell_type": "code",
   "execution_count": 1,
   "id": "0f2ad6c3",
   "metadata": {},
   "outputs": [
    {
     "name": "stdout",
     "output_type": "stream",
     "text": [
      "2.3.0\n"
     ]
    }
   ],
   "source": [
    "# import tensorflow\n",
    "\n",
    "\n",
    "import tensorflow as tf\n",
    "\n",
    "import tensorflow_hub as hub\n",
    "#import tensorflow_probability as tfp\n",
    "from tensorflow import keras\n",
    "from tensorflow.keras import layers\n",
    "from tensorflow.keras.layers import Dense, Flatten, Conv2D\n",
    "from tensorflow.keras import Model\n",
    "from tensorflow.keras.preprocessing.image import ImageDataGenerator\n",
    "\n",
    "\n",
    "\n",
    "import numpy as np\n",
    "import matplotlib.pyplot as plt\n",
    "import pandas as pd\n",
    "\n",
    "print(tf.__version__)\n",
    "\n",
    "\n",
    "\n",
    "# note: to install and import tensorflow_hub, you need to degrade tf-estimator to 2.3.0.... \n",
    "# !pip install --upgrade tensorflow-estimator==2.3.0 \n",
    "# !pip install --upgrade tensorflow-hub"
   ]
  },
  {
   "cell_type": "code",
   "execution_count": 2,
   "id": "bae0db3b",
   "metadata": {},
   "outputs": [],
   "source": [
    "from tensorflow.keras.callbacks import TensorBoard"
   ]
  },
  {
   "cell_type": "code",
   "execution_count": 3,
   "id": "f43f15fc",
   "metadata": {},
   "outputs": [],
   "source": [
    "# get data (10% of 10 food classed from food101)\n",
    "\n",
    "import zipfile\n",
    "\n",
    "\n",
    "\n",
    "# download the data\n",
    "\n",
    "# !wget https://storage.googleapis.com/ztm_tf_course/food_vision/10_food_classes_10_percent\n",
    "\n",
    "\n",
    "# unzip our data\n",
    "\n",
    "zip_ref = zipfile.ZipFile(r\"D:\\Data Science Course details\\Udemy_dataset\\10_food_classes_10_percent.zip\")\n",
    "zip_ref.extractall()\n",
    "zip_ref.close()\n",
    "\n"
   ]
  },
  {
   "cell_type": "code",
   "execution_count": 4,
   "id": "cc097ea6",
   "metadata": {},
   "outputs": [
    {
     "name": "stdout",
     "output_type": "stream",
     "text": [
      "There are 2 directories and 0 images in 'D:\\Data Science Course details\\Udemy_dataset\\10_food_classes_10_percent\\10_food_classes_10_percent'.\n",
      "There are 10 directories and 0 images in 'D:\\Data Science Course details\\Udemy_dataset\\10_food_classes_10_percent\\10_food_classes_10_percent\\test'.\n",
      "There are 0 directories and 250 images in 'D:\\Data Science Course details\\Udemy_dataset\\10_food_classes_10_percent\\10_food_classes_10_percent\\test\\chicken_curry'.\n",
      "There are 0 directories and 250 images in 'D:\\Data Science Course details\\Udemy_dataset\\10_food_classes_10_percent\\10_food_classes_10_percent\\test\\chicken_wings'.\n",
      "There are 0 directories and 250 images in 'D:\\Data Science Course details\\Udemy_dataset\\10_food_classes_10_percent\\10_food_classes_10_percent\\test\\fried_rice'.\n",
      "There are 0 directories and 250 images in 'D:\\Data Science Course details\\Udemy_dataset\\10_food_classes_10_percent\\10_food_classes_10_percent\\test\\grilled_salmon'.\n",
      "There are 0 directories and 250 images in 'D:\\Data Science Course details\\Udemy_dataset\\10_food_classes_10_percent\\10_food_classes_10_percent\\test\\hamburger'.\n",
      "There are 0 directories and 250 images in 'D:\\Data Science Course details\\Udemy_dataset\\10_food_classes_10_percent\\10_food_classes_10_percent\\test\\ice_cream'.\n",
      "There are 0 directories and 250 images in 'D:\\Data Science Course details\\Udemy_dataset\\10_food_classes_10_percent\\10_food_classes_10_percent\\test\\pizza'.\n",
      "There are 0 directories and 250 images in 'D:\\Data Science Course details\\Udemy_dataset\\10_food_classes_10_percent\\10_food_classes_10_percent\\test\\ramen'.\n",
      "There are 0 directories and 250 images in 'D:\\Data Science Course details\\Udemy_dataset\\10_food_classes_10_percent\\10_food_classes_10_percent\\test\\steak'.\n",
      "There are 0 directories and 250 images in 'D:\\Data Science Course details\\Udemy_dataset\\10_food_classes_10_percent\\10_food_classes_10_percent\\test\\sushi'.\n",
      "There are 10 directories and 0 images in 'D:\\Data Science Course details\\Udemy_dataset\\10_food_classes_10_percent\\10_food_classes_10_percent\\train'.\n",
      "There are 0 directories and 75 images in 'D:\\Data Science Course details\\Udemy_dataset\\10_food_classes_10_percent\\10_food_classes_10_percent\\train\\chicken_curry'.\n",
      "There are 0 directories and 75 images in 'D:\\Data Science Course details\\Udemy_dataset\\10_food_classes_10_percent\\10_food_classes_10_percent\\train\\chicken_wings'.\n",
      "There are 0 directories and 75 images in 'D:\\Data Science Course details\\Udemy_dataset\\10_food_classes_10_percent\\10_food_classes_10_percent\\train\\fried_rice'.\n",
      "There are 0 directories and 75 images in 'D:\\Data Science Course details\\Udemy_dataset\\10_food_classes_10_percent\\10_food_classes_10_percent\\train\\grilled_salmon'.\n",
      "There are 0 directories and 75 images in 'D:\\Data Science Course details\\Udemy_dataset\\10_food_classes_10_percent\\10_food_classes_10_percent\\train\\hamburger'.\n",
      "There are 0 directories and 75 images in 'D:\\Data Science Course details\\Udemy_dataset\\10_food_classes_10_percent\\10_food_classes_10_percent\\train\\ice_cream'.\n",
      "There are 0 directories and 75 images in 'D:\\Data Science Course details\\Udemy_dataset\\10_food_classes_10_percent\\10_food_classes_10_percent\\train\\pizza'.\n",
      "There are 0 directories and 75 images in 'D:\\Data Science Course details\\Udemy_dataset\\10_food_classes_10_percent\\10_food_classes_10_percent\\train\\ramen'.\n",
      "There are 0 directories and 75 images in 'D:\\Data Science Course details\\Udemy_dataset\\10_food_classes_10_percent\\10_food_classes_10_percent\\train\\steak'.\n",
      "There are 0 directories and 75 images in 'D:\\Data Science Course details\\Udemy_dataset\\10_food_classes_10_percent\\10_food_classes_10_percent\\train\\sushi'.\n"
     ]
    }
   ],
   "source": [
    "# how many image in each folder ?\n",
    "\n",
    "import os\n",
    "\n",
    "\n",
    "# walk through 10 percent data directory and list number of files\n",
    "\n",
    " \n",
    "for dirpath, dirnames, filenames in os.walk(r'D:\\Data Science Course details\\Udemy_dataset\\10_food_classes_10_percent\\10_food_classes_10_percent'):\n",
    "    print(f\"There are {len(dirnames)} directories and {len(filenames)} images in '{dirpath}'.\")    \n",
    "    "
   ]
  },
  {
   "cell_type": "markdown",
   "id": "d76a9b1c",
   "metadata": {},
   "source": [
    "### Creating data loaders (preparing the data)\n",
    "\n",
    "We'll use ImageDataGenerator class to load in our images in batches\n",
    "\n"
   ]
  },
  {
   "cell_type": "code",
   "execution_count": 5,
   "id": "3fcf2db3",
   "metadata": {},
   "outputs": [
    {
     "name": "stdout",
     "output_type": "stream",
     "text": [
      "Training images:\n",
      "Found 750 images belonging to 10 classes.\n",
      "Testing images:\n",
      "Found 2500 images belonging to 10 classes.\n"
     ]
    }
   ],
   "source": [
    "# setup data inputs\n",
    "\n",
    "from tensorflow.keras.preprocessing.image import ImageDataGenerator\n",
    "\n",
    "\n",
    "IMAGE_SHAPE = (224, 224)\n",
    "BATCH_SIZE = 32\n",
    "\n",
    "\n",
    "train_dir = r'D:\\Data Science Course details\\Udemy_dataset\\10_food_classes_10_percent\\10_food_classes_10_percent\\train/'\n",
    "\n",
    "test_dir = r'D:\\Data Science Course details\\Udemy_dataset\\10_food_classes_10_percent\\10_food_classes_10_percent\\test/'\n",
    "\n",
    "\n",
    "train_datagen = ImageDataGenerator(rescale= 1/255.)\n",
    "test_datagen = ImageDataGenerator(rescale= 1/255.)\n",
    "\n",
    "\n",
    "print(\"Training images:\")\n",
    "train_data_10_percent = train_datagen.flow_from_directory(train_dir,\n",
    "                                               target_size=IMAGE_SHAPE,\n",
    "                                               batch_size=BATCH_SIZE,\n",
    "                                               class_mode=\"categorical\")\n",
    "\n",
    "print(\"Testing images:\")\n",
    "test_data = train_datagen.flow_from_directory(test_dir,\n",
    "                                              target_size=IMAGE_SHAPE,\n",
    "                                              batch_size=BATCH_SIZE,\n",
    "                                              class_mode=\"categorical\")\n"
   ]
  },
  {
   "cell_type": "markdown",
   "id": "deb93dc6",
   "metadata": {},
   "source": [
    "## Setting up Callbacks\n",
    "\n",
    "(Things to run whilst our model trains)\n",
    "\n",
    "\n",
    "Callbacks are extra functionality you can add to your models to be performed during or after training. some of the most popular callbacks:\n",
    "\n",
    "1. Tracking experiments with the tensorboard callback\n",
    "2. Model checkpoint with the modelCheckpoint callback\n",
    "3. Stopping a model from training (before it rains too long and overfits) with the earlystopping callback"
   ]
  },
  {
   "cell_type": "code",
   "execution_count": 6,
   "id": "ecb45b9b",
   "metadata": {},
   "outputs": [],
   "source": [
    "# create TensorBoard Callback (functionized because we need to create a new one for each model)\n",
    "\n",
    "import datetime\n",
    "def create_tensorboard_callback(dir_name, experiment_name):\n",
    "  log_dir = dir_name + \"/\" + experiment_name + \"/\" + datetime.datetime.now().strftime(\"%Y%m%d-%H%M%S\")\n",
    "  tensorboard_callback = tf.keras.callbacks.TensorBoard(\n",
    "      log_dir=log_dir\n",
    "  )\n",
    "  print(f\"Saving TensorBoard log files to: {log_dir}\")\n",
    "  return tensorboard_callback\n"
   ]
  },
  {
   "cell_type": "code",
   "execution_count": 7,
   "id": "dd76b2cd",
   "metadata": {},
   "outputs": [],
   "source": [
    "\n",
    "import tensorflow as tf\n",
    "import tensorflow_hub as hub\n",
    "from tensorflow.keras import layers"
   ]
  },
  {
   "cell_type": "markdown",
   "id": "35de9001",
   "metadata": {},
   "source": [
    "## Creating models using Tensorflow Hub\n",
    "\n",
    "\n",
    "In the past we've used TF to create our own models layer-by-layer from scratch.\n",
    "\n",
    "\n",
    "Now we're going to do a similar process, except the majority layers are going to come from Tensorflow Hub.\n",
    "\n",
    "We can access pretrained model on https://tfhub.dev/\n",
    "\n",
    "Browsing the Tensorflow HUB page and sorting for image classification, we found the following feature vector model link -   https://tfhub.dev/tensorflow/efficientnet/b0/feature-vector/1\n"
   ]
  },
  {
   "cell_type": "code",
   "execution_count": 8,
   "id": "3c2c00be",
   "metadata": {},
   "outputs": [],
   "source": [
    "# lets compare the following two models\n",
    "\n",
    "# Resnet 50 V2 feature vector\n",
    "resnet_url = \"https://tfhub.dev/google/imagenet/resnet_v2_50/feature_vector/4\"\n",
    "\n",
    "# Original: EfficientNetB0 feature vector (version 1)\n",
    "efficientnet_url = \"https://tfhub.dev/tensorflow/efficientnet/b0/feature-vector/1\"\n",
    "\n",
    "# # New: EfficientNetB0 feature vector (version 2)\n",
    "# efficientnet_url = \"https://tfhub.dev/google/imagenet/efficientnet_v2_imagenet1k_b0/feature_vector/2\"\n",
    "\n"
   ]
  },
  {
   "cell_type": "code",
   "execution_count": 17,
   "id": "fc5c744c",
   "metadata": {},
   "outputs": [],
   "source": [
    "# import dependencies \n",
    "\n",
    "# import tensorflow_hub as hub\n",
    "# from tensorflow.keras import layers"
   ]
  },
  {
   "cell_type": "code",
   "execution_count": 9,
   "id": "03118f58",
   "metadata": {},
   "outputs": [],
   "source": [
    "# lets  make a create_model() function to create a model from a URL\n",
    "\n",
    "def create_model(model_url, num_classes=10):\n",
    "  \"\"\"Takes a TensorFlow Hub URL and creates a Keras Sequential model with it.\n",
    "  \n",
    "  Args:\n",
    "    model_url (str): A TensorFlow Hub feature extraction URL.\n",
    "    num_classes (int): Number of output neurons in output layer,\n",
    "      should be equal to number of target classes, default 10.\n",
    "\n",
    "  Returns:\n",
    "    An uncompiled Keras Sequential model with model_url as feature\n",
    "    extractor layer and Dense output layer with num_classes outputs.\n",
    "  \"\"\"\n",
    "  # Download the pretrained model and save it as a Keras layer\n",
    "  feature_extractor_layer = hub.KerasLayer(model_url,\n",
    "                                           trainable=False, # freeze the underlying patterns\n",
    "                                           name='feature_extraction_layer',\n",
    "                                           input_shape=IMAGE_SHAPE+(3,)) # define the input image shape\n",
    "  \n",
    "  # Create our own model\n",
    "  model = tf.keras.Sequential([\n",
    "    feature_extractor_layer, # use the feature extraction layer as the base\n",
    "    layers.Dense(num_classes, activation='softmax', name='output_layer') # create our own output layer      \n",
    "  ])\n",
    "\n",
    "  return model"
   ]
  },
  {
   "cell_type": "markdown",
   "id": "12c6024c",
   "metadata": {},
   "source": [
    "### Creating and testing ResNet Tensorflow Hub Feature extraction model"
   ]
  },
  {
   "cell_type": "code",
   "execution_count": 10,
   "id": "4a6bdfe9",
   "metadata": {},
   "outputs": [
    {
     "name": "stdout",
     "output_type": "stream",
     "text": [
      "WARNING:tensorflow:AutoGraph could not transform <bound method KerasLayer.call of <tensorflow_hub.keras_layer.KerasLayer object at 0x00000279364C00D0>> and will run it as-is.\n",
      "Please report this to the TensorFlow team. When filing the bug, set the verbosity to 10 (on Linux, `export AUTOGRAPH_VERBOSITY=10`) and attach the full output.\n",
      "Cause: module 'gast' has no attribute 'Index'\n",
      "To silence this warning, decorate the function with @tf.autograph.experimental.do_not_convert\n"
     ]
    },
    {
     "name": "stderr",
     "output_type": "stream",
     "text": [
      "WARNING:tensorflow:AutoGraph could not transform <bound method KerasLayer.call of <tensorflow_hub.keras_layer.KerasLayer object at 0x00000279364C00D0>> and will run it as-is.\n",
      "Please report this to the TensorFlow team. When filing the bug, set the verbosity to 10 (on Linux, `export AUTOGRAPH_VERBOSITY=10`) and attach the full output.\n",
      "Cause: module 'gast' has no attribute 'Index'\n",
      "To silence this warning, decorate the function with @tf.autograph.experimental.do_not_convert\n"
     ]
    },
    {
     "name": "stdout",
     "output_type": "stream",
     "text": [
      "WARNING: AutoGraph could not transform <bound method KerasLayer.call of <tensorflow_hub.keras_layer.KerasLayer object at 0x00000279364C00D0>> and will run it as-is.\n",
      "Please report this to the TensorFlow team. When filing the bug, set the verbosity to 10 (on Linux, `export AUTOGRAPH_VERBOSITY=10`) and attach the full output.\n",
      "Cause: module 'gast' has no attribute 'Index'\n",
      "To silence this warning, decorate the function with @tf.autograph.experimental.do_not_convert\n"
     ]
    }
   ],
   "source": [
    "# create resnet model\n",
    "\n",
    "# Create model\n",
    "resnet_model = create_model(resnet_url, num_classes=train_data_10_percent.num_classes)\n",
    "\n"
   ]
  },
  {
   "cell_type": "code",
   "execution_count": 11,
   "id": "93efff30",
   "metadata": {},
   "outputs": [],
   "source": [
    "# compile our resnet model\n",
    "\n",
    "resnet_model.compile(loss='categorical_crossentropy',\n",
    "                     optimizer=tf.keras.optimizers.Adam(),\n",
    "                     metrics=['accuracy'])\n"
   ]
  },
  {
   "cell_type": "code",
   "execution_count": 15,
   "id": "7826d38f",
   "metadata": {},
   "outputs": [
    {
     "name": "stdout",
     "output_type": "stream",
     "text": [
      "Saving TensorBoard log files to: tensorflow_hub/resnet50V2/20210923-175656\n",
      "Epoch 1/5\n",
      " 2/24 [=>............................] - ETA: 53s - loss: 1.1471 - accuracy: 0.6087WARNING:tensorflow:Callbacks method `on_train_batch_end` is slow compared to the batch time (batch time: 1.2989s vs `on_train_batch_end` time: 3.6016s). Check your callbacks.\n"
     ]
    },
    {
     "name": "stderr",
     "output_type": "stream",
     "text": [
      "WARNING:tensorflow:Callbacks method `on_train_batch_end` is slow compared to the batch time (batch time: 1.2989s vs `on_train_batch_end` time: 3.6016s). Check your callbacks.\n"
     ]
    },
    {
     "name": "stdout",
     "output_type": "stream",
     "text": [
      "24/24 [==============================] - 321s 13s/step - loss: 0.9750 - accuracy: 0.7013 - val_loss: 0.8872 - val_accuracy: 0.7160\n",
      "Epoch 2/5\n",
      "24/24 [==============================] - 316s 13s/step - loss: 0.6598 - accuracy: 0.8093 - val_loss: 0.7594 - val_accuracy: 0.7544\n",
      "Epoch 3/5\n",
      "24/24 [==============================] - 344s 14s/step - loss: 0.5067 - accuracy: 0.8760 - val_loss: 0.7124 - val_accuracy: 0.7684\n",
      "Epoch 4/5\n",
      "24/24 [==============================] - 329s 14s/step - loss: 0.3957 - accuracy: 0.9107 - val_loss: 0.6793 - val_accuracy: 0.7756\n",
      "Epoch 5/5\n",
      "24/24 [==============================] - 342s 14s/step - loss: 0.3273 - accuracy: 0.9373 - val_loss: 0.6588 - val_accuracy: 0.7832\n"
     ]
    }
   ],
   "source": [
    " # letd fit our Resnet model to the data (10 percent of 10 classes)\n",
    "\n",
    "\n",
    "    \n",
    "\n",
    "resnet_history = resnet_model.fit(train_data_10_percent,\n",
    "                                  epochs=5,\n",
    "                                  steps_per_epoch =len(train_data_10_percent),\n",
    "                                  validation_data= test_data,\n",
    "                                  validation_steps=len(test_data),\n",
    "                                  callbacks = [create_tensorboard_callback(dir_name = 'tensorflow_hub',\n",
    "                                                                          experiment_name='resnet50V2')])"
   ]
  },
  {
   "cell_type": "code",
   "execution_count": 16,
   "id": "a1c299c7",
   "metadata": {},
   "outputs": [],
   "source": [
    "# lets create a fun to plot our loss curves\n",
    "\n",
    "\n",
    "def plot_loss_curves(history):\n",
    "    \"\"\"\n",
    "    Returns separate loss curves for training and validation metrics\n",
    "    \"\"\"\n",
    "    loss=history.history['loss']\n",
    "    val_loss=history.history['val_loss']\n",
    "    \n",
    "    accuracy = history.history['accuracy']\n",
    "    val_accuracy = history.history['val_accuracy']\n",
    "    \n",
    "    epochs = range(len(history.history['loss']))   # how many epochs did we run for ?\n",
    "    \n",
    "    \n",
    "    # plot loss\n",
    "    plt.plot(epochs, loss, label='training loss')\n",
    "    plt.plot(epochs, val_loss, label='val_loss')\n",
    "    plt.title('loss')\n",
    "    plt.xlabel('epochs')\n",
    "    plt.legend()\n",
    "    \n",
    "    \n",
    "    \n",
    "    # plot the accuracy\n",
    "    plt.figure()\n",
    "    plt.plot(epochs, accuracy, label='training accuracy')\n",
    "    plt.plot(epochs, val_accuracy, label='val_accuracy')\n",
    "    plt.title('accuracy')\n",
    "    plt.xlabel('epochs')\n",
    "    plt.legend()"
   ]
  },
  {
   "cell_type": "code",
   "execution_count": 17,
   "id": "41c6a240",
   "metadata": {},
   "outputs": [
    {
     "data": {
      "image/png": "[encoded data removed]",
      "text/plain": [
       "<Figure size 432x288 with 1 Axes>"
      ]
     },
     "metadata": {
      "needs_background": "light"
     },
     "output_type": "display_data"
    },
    {
     "data": {
      "image/png": "[encoded data removed]",
      "text/plain": [
       "<Figure size 432x288 with 1 Axes>"
      ]
     },
     "metadata": {
      "needs_background": "light"
     },
     "output_type": "display_data"
    }
   ],
   "source": [
    "plot_loss_curves(resnet_history)"
   ]
  },
  {
   "cell_type": "markdown",
   "id": "0bb9083f",
   "metadata": {},
   "source": [
    "### Creating and testing EfficientNetB0 TensorFlow Hub Feauture Extraction model "
   ]
  },
  {
   "cell_type": "code",
   "execution_count": 20,
   "id": "e65ca8aa",
   "metadata": {},
   "outputs": [],
   "source": [
    "# create efficientnetB0 feature extractor model\n",
    "\n",
    "efficientnet_model = create_model(model_url= efficientnet_url, \n",
    "                               num_classes=train_data_10_percent.num_classes)\n",
    "\n",
    "\n",
    "\n",
    "\n",
    "\n",
    "\n"
   ]
  },
  {
   "cell_type": "code",
   "execution_count": 21,
   "id": "320d517e",
   "metadata": {},
   "outputs": [],
   "source": [
    "# compile efficientnet model\n",
    "efficientnet_model.compile(loss='categorical_crossentropy',\n",
    "                          optimizer=tf.keras.optimizers.Adam(),\n",
    "                          metrics=['accuracy'])\n"
   ]
  },
  {
   "cell_type": "code",
   "execution_count": 22,
   "id": "9d9359d4",
   "metadata": {},
   "outputs": [
    {
     "name": "stdout",
     "output_type": "stream",
     "text": [
      "Saving TensorBoard log files to: tensorflow_hub/EfficentnetB0/20210923-191415\n",
      "Epoch 1/5\n",
      " 2/24 [=>............................] - ETA: 3:34 - loss: 2.3822 - accuracy: 0.0625WARNING:tensorflow:Callbacks method `on_train_batch_end` is slow compared to the batch time (batch time: 2.2557s vs `on_train_batch_end` time: 17.1943s). Check your callbacks.\n"
     ]
    },
    {
     "name": "stderr",
     "output_type": "stream",
     "text": [
      "WARNING:tensorflow:Callbacks method `on_train_batch_end` is slow compared to the batch time (batch time: 2.2557s vs `on_train_batch_end` time: 17.1943s). Check your callbacks.\n"
     ]
    },
    {
     "name": "stdout",
     "output_type": "stream",
     "text": [
      "24/24 [==============================] - 265s 11s/step - loss: 1.8418 - accuracy: 0.4387 - val_loss: 1.2929 - val_accuracy: 0.7192\n",
      "Epoch 2/5\n",
      "24/24 [==============================] - 271s 11s/step - loss: 1.0754 - accuracy: 0.7440 - val_loss: 0.8677 - val_accuracy: 0.8132\n",
      "Epoch 3/5\n",
      "24/24 [==============================] - 248s 10s/step - loss: 0.7686 - accuracy: 0.8293 - val_loss: 0.6942 - val_accuracy: 0.8432\n",
      "Epoch 4/5\n",
      "24/24 [==============================] - 243s 10s/step - loss: 0.6133 - accuracy: 0.8653 - val_loss: 0.6092 - val_accuracy: 0.8536\n",
      "Epoch 5/5\n",
      "24/24 [==============================] - 247s 10s/step - loss: 0.5179 - accuracy: 0.8973 - val_loss: 0.5531 - val_accuracy: 0.8604\n"
     ]
    }
   ],
   "source": [
    "# fit efficientnet model to 10% of training data\n",
    "\n",
    "efficientnet_history = efficientnet_model.fit(train_data_10_percent,\n",
    "                                             epochs = 5,\n",
    "                                             steps_per_epoch= len(train_data_10_percent),\n",
    "                                             validation_data = test_data,\n",
    "                                             validation_steps=len(test_data),\n",
    "                                             callbacks=[create_tensorboard_callback(dir_name = 'tensorflow_hub',\n",
    "                                                                          experiment_name='EfficentnetB0')])"
   ]
  },
  {
   "cell_type": "code",
   "execution_count": 23,
   "id": "7ebf07dc",
   "metadata": {},
   "outputs": [],
   "source": [
    "# lets create a fun to plot our loss curves\n",
    "\n",
    "\n",
    "def plot_loss_curves(history):\n",
    "    \"\"\"\n",
    "    Returns separate loss curves for training and validation metrics\n",
    "    \"\"\"\n",
    "    loss=history.history['loss']\n",
    "    val_loss=history.history['val_loss']\n",
    "    \n",
    "    accuracy = history.history['accuracy']\n",
    "    val_accuracy = history.history['val_accuracy']\n",
    "    \n",
    "    epochs = range(len(history.history['loss']))   # how many epochs did we run for ?\n",
    "    \n",
    "    \n",
    "    # plot loss\n",
    "    plt.plot(epochs, loss, label='training loss')\n",
    "    plt.plot(epochs, val_loss, label='val_loss')\n",
    "    plt.title('loss')\n",
    "    plt.xlabel('epochs')\n",
    "    plt.legend()\n",
    "    \n",
    "    \n",
    "    \n",
    "    # plot the accuracy\n",
    "    plt.figure()\n",
    "    plt.plot(epochs, accuracy, label='training accuracy')\n",
    "    plt.plot(epochs, val_accuracy, label='val_accuracy')\n",
    "    plt.title('accuracy')\n",
    "    plt.xlabel('epochs')\n",
    "    plt.legend()"
   ]
  },
  {
   "cell_type": "code",
   "execution_count": 24,
   "id": "449f2697",
   "metadata": {},
   "outputs": [
    {
     "data": {
      "image/png": "[encoded data removed]",
      "text/plain": [
       "<Figure size 432x288 with 1 Axes>"
      ]
     },
     "metadata": {
      "needs_background": "light"
     },
     "output_type": "display_data"
    },
    {
     "data": {
      "image/png": "[encoded data removed]",
      "text/plain": [
       "<Figure size 432x288 with 1 Axes>"
      ]
     },
     "metadata": {
      "needs_background": "light"
     },
     "output_type": "display_data"
    }
   ],
   "source": [
    "plot_loss_curves(efficientnet_history)"
   ]
  },
  {
   "cell_type": "code",
   "execution_count": null,
   "id": "0bf70aea",
   "metadata": {},
   "outputs": [],
   "source": []
  },
  {
   "cell_type": "code",
   "execution_count": null,
   "id": "dcbe0abb",
   "metadata": {},
   "outputs": [],
   "source": []
  },
  {
   "cell_type": "code",
   "execution_count": 25,
   "id": "8a0add9f",
   "metadata": {},
   "outputs": [
    {
     "data": {
      "text/plain": [
       "309"
      ]
     },
     "execution_count": 25,
     "metadata": {},
     "output_type": "execute_result"
    }
   ],
   "source": [
    "# how many layers does our efficientnet feature extractor have ?\n",
    "\n",
    "len(efficientnet_model.layers[0].weights)"
   ]
  },
  {
   "cell_type": "markdown",
   "id": "021d3906",
   "metadata": {},
   "source": [
    "## Different types of Transfer learning\n",
    "\n",
    "\n",
    "1. As in Transfer learning - using an existing model with no changes whatsover (eg: using ImageNet model on 1000 imagenet  classes, none of our own)\n",
    "\n",
    "2. Feature Extraction Transfer learning - use the prelearned of an existing model (eg: efficientNetB0 trained on ImageNet) and adjust the output layer for your own problem (eg: 1000 classes --> 10 classes of food)\n",
    "\n",
    "3. Fine-tuning transfer learning - use the prelearned patterns of an existing model and fine-tune many or all of the underlying layers (including new output layers)"
   ]
  },
  {
   "cell_type": "markdown",
   "id": "9addfa4a",
   "metadata": {},
   "source": []
  },
  {
   "cell_type": "markdown",
   "id": "fd2c44a8",
   "metadata": {},
   "source": []
  },
  {
   "cell_type": "code",
   "execution_count": null,
   "id": "a7190c09",
   "metadata": {},
   "outputs": [],
   "source": []
  },
  {
   "cell_type": "code",
   "execution_count": null,
   "id": "d310dd64",
   "metadata": {},
   "outputs": [],
   "source": []
  },
  {
   "cell_type": "code",
   "execution_count": null,
   "id": "865bfed4",
   "metadata": {},
   "outputs": [],
   "source": []
  },
  {
   "cell_type": "code",
   "execution_count": null,
   "id": "8a882490",
   "metadata": {},
   "outputs": [],
   "source": []
  },
  {
   "cell_type": "code",
   "execution_count": null,
   "id": "22faa6f0",
   "metadata": {},
   "outputs": [],
   "source": []
  },
  {
   "cell_type": "code",
   "execution_count": null,
   "id": "2e17bd7d",
   "metadata": {},
   "outputs": [],
   "source": []
  },
  {
   "cell_type": "code",
   "execution_count": null,
   "id": "23b86c9c",
   "metadata": {},
   "outputs": [],
   "source": []
  },
  {
   "cell_type": "code",
   "execution_count": null,
   "id": "295b53a0",
   "metadata": {},
   "outputs": [],
   "source": []
  },
  {
   "cell_type": "code",
   "execution_count": null,
   "id": "2727c16c",
   "metadata": {},
   "outputs": [],
   "source": []
  },
  {
   "cell_type": "code",
   "execution_count": null,
   "id": "904c292e",
   "metadata": {},
   "outputs": [],
   "source": []
  },
  {
   "cell_type": "code",
   "execution_count": null,
   "id": "336787a0",
   "metadata": {},
   "outputs": [],
   "source": []
  },
  {
   "cell_type": "code",
   "execution_count": null,
   "id": "dd401e05",
   "metadata": {},
   "outputs": [],
   "source": []
  },
  {
   "cell_type": "code",
   "execution_count": null,
   "id": "932c6b46",
   "metadata": {},
   "outputs": [],
   "source": []
  },
  {
   "cell_type": "code",
   "execution_count": null,
   "id": "b281a3c8",
   "metadata": {},
   "outputs": [],
   "source": []
  },
  {
   "cell_type": "code",
   "execution_count": null,
   "id": "6361642d",
   "metadata": {},
   "outputs": [],
   "source": []
  },
  {
   "cell_type": "code",
   "execution_count": null,
   "id": "70f5241c",
   "metadata": {},
   "outputs": [],
   "source": []
  },
  {
   "cell_type": "code",
   "execution_count": null,
   "id": "756aa8a3",
   "metadata": {},
   "outputs": [],
   "source": []
  },
  {
   "cell_type": "code",
   "execution_count": null,
   "id": "a1906782",
   "metadata": {},
   "outputs": [],
   "source": []
  },
  {
   "cell_type": "code",
   "execution_count": null,
   "id": "f6a5cc54",
   "metadata": {},
   "outputs": [],
   "source": []
  },
  {
   "cell_type": "code",
   "execution_count": null,
   "id": "73ece2e9",
   "metadata": {},
   "outputs": [],
   "source": []
  },
  {
   "cell_type": "code",
   "execution_count": null,
   "id": "83703d30",
   "metadata": {},
   "outputs": [],
   "source": []
  },
  {
   "cell_type": "code",
   "execution_count": null,
   "id": "caf63d2b",
   "metadata": {},
   "outputs": [],
   "source": []
  },
  {
   "cell_type": "code",
   "execution_count": null,
   "id": "51ba7fb0",
   "metadata": {},
   "outputs": [],
   "source": []
  },
  {
   "cell_type": "code",
   "execution_count": null,
   "id": "b52e49a2",
   "metadata": {},
   "outputs": [],
   "source": []
  },
  {
   "cell_type": "code",
   "execution_count": null,
   "id": "94516b1e",
   "metadata": {},
   "outputs": [],
   "source": []
  },
  {
   "cell_type": "code",
   "execution_count": null,
   "id": "4f99f68f",
   "metadata": {},
   "outputs": [],
   "source": []
  },
  {
   "cell_type": "code",
   "execution_count": null,
   "id": "123caa46",
   "metadata": {},
   "outputs": [],
   "source": []
  },
  {
   "cell_type": "code",
   "execution_count": null,
   "id": "a891abf2",
   "metadata": {},
   "outputs": [],
   "source": []
  },
  {
   "cell_type": "code",
   "execution_count": null,
   "id": "e37b5ace",
   "metadata": {},
   "outputs": [],
   "source": []
  },
  {
   "cell_type": "code",
   "execution_count": null,
   "id": "3a2c1e4e",
   "metadata": {},
   "outputs": [],
   "source": []
  }
 ],
 "metadata": {
  "kernelspec": {
   "display_name": "Python 3",
   "language": "python",
   "name": "python3"
  },
  "language_info": {
   "codemirror_mode": {
    "name": "ipython",
    "version": 3
   },
   "file_extension": ".py",
   "mimetype": "text/x-python",
   "name": "python",
   "nbconvert_exporter": "python",
   "pygments_lexer": "ipython3",
   "version": "3.8.8"
  }
 },
 "nbformat": 4,
 "nbformat_minor": 5
}
